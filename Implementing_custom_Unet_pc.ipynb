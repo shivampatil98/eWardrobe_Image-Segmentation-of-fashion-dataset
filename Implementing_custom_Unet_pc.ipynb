{
 "cells": [
  {
   "cell_type": "markdown",
   "metadata": {
    "id": "Wz868OUYiPj2"
   },
   "source": [
    "# Implementing custom Unet training\n",
    "![](https://drive.google.com/uc?id=1iU9xphUXLys7Dpi7FwSDy1YLCKutjUTQ)"
   ]
  },
  {
   "cell_type": "code",
   "execution_count": 1,
   "metadata": {
    "executionInfo": {
     "elapsed": 11084,
     "status": "ok",
     "timestamp": 1756881428782,
     "user": {
      "displayName": "Shivam Patil",
      "userId": "12236723277707423976"
     },
     "user_tz": -120
    },
    "id": "wEM6S5sgq1yf"
   },
   "outputs": [],
   "source": [
    "import os\n",
    "import time\n",
    "import torch\n",
    "\n",
    "from PIL import Image\n",
    "\n",
    "from torch import nn\n",
    "from torchvision import transforms\n",
    "\n",
    "from torch.utils.data import DataLoader, Dataset\n",
    "from torch.optim import Adam, AdamW, SGD"
   ]
  },
  {
   "cell_type": "code",
   "execution_count": 2,
   "metadata": {
    "executionInfo": {
     "elapsed": 6,
     "status": "ok",
     "timestamp": 1756881428809,
     "user": {
      "displayName": "Shivam Patil",
      "userId": "12236723277707423976"
     },
     "user_tz": -120
    },
    "id": "iNI3H4duwtko"
   },
   "outputs": [],
   "source": [
    "class SegmentationDataset(Dataset):\n",
    "  def __init__(self, image_dir, mask_dir):\n",
    "    self.image_dir = image_dir\n",
    "    self.mask_dir = mask_dir\n",
    "    self.transform = transforms.Compose([\n",
    "        transforms.Resize((512, 512)),\n",
    "        transforms.ToTensor()])\n",
    "\n",
    "    valid_extension = {\".jpg\", \".jpeg\", \".png\"}\n",
    "    self.images = [f for f in os.listdir(image_dir) if os.path.splitext(f)[1].lower() in valid_extension]\n",
    "\n",
    "  def __len__(self):\n",
    "    return len(self.images)\n",
    "\n",
    "  def __getitem__(self, idx):\n",
    "    img_path = os.path.join(self.image_dir, self.images[idx])\n",
    "    name, ext = os.path.splitext(self.images[idx])\n",
    "    mask_path = os.path.join(self.mask_dir, f\"{name}.png\")\n",
    "\n",
    "    image = Image.open(img_path).convert(\"RGB\")\n",
    "    mask = Image.open(mask_path).convert(\"L\")\n",
    "\n",
    "    image = self.transform(image)\n",
    "    mask = self.transform(mask)\n",
    "\n",
    "    mask = (mask > 0.5).float()\n",
    "\n",
    "    return image, mask"
   ]
  },
  {
   "cell_type": "code",
   "execution_count": 3,
   "metadata": {
    "executionInfo": {
     "elapsed": 6,
     "status": "ok",
     "timestamp": 1756881428819,
     "user": {
      "displayName": "Shivam Patil",
      "userId": "12236723277707423976"
     },
     "user_tz": -120
    },
    "id": "WwdILW4xx_Wm"
   },
   "outputs": [],
   "source": [
    "def get_dataloader(image_dir, maks_dir, batch_size=2, shuffle=True):\n",
    "  dataset = SegmentationDataset(image_dir, maks_dir)\n",
    "  return DataLoader(dataset, batch_size=batch_size, shuffle=shuffle)"
   ]
  },
  {
   "cell_type": "markdown",
   "metadata": {
    "id": "MnZ_LvFLzzXd"
   },
   "source": [
    "# UNET\n",
    "\n",
    "![](https://drive.google.com/uc?id=1-VqrLBuLuzcIxk3QNTIHP5u1JW93NNy5)"
   ]
  },
  {
   "cell_type": "code",
   "execution_count": 4,
   "metadata": {
    "executionInfo": {
     "elapsed": 4,
     "status": "ok",
     "timestamp": 1756881428827,
     "user": {
      "displayName": "Shivam Patil",
      "userId": "12236723277707423976"
     },
     "user_tz": -120
    },
    "id": "0jD849iqzimG"
   },
   "outputs": [],
   "source": [
    "class DoubleConv(nn.Module):\n",
    "  def __init__(self, in_channels, out_channels):\n",
    "    super().__init__()\n",
    "    self.conv_op = nn.Sequential(\n",
    "        nn.Conv2d(in_channels, out_channels, kernel_size=3,padding=1),\n",
    "        nn.ReLU(inplace=True),\n",
    "        nn.Conv2d(out_channels, out_channels, kernel_size=3,padding=1),\n",
    "        nn.ReLU(inplace=True)\n",
    "    )\n",
    "\n",
    "  def forward(self, x):\n",
    "    return self.conv_op(x)"
   ]
  },
  {
   "cell_type": "code",
   "execution_count": 5,
   "metadata": {
    "executionInfo": {
     "elapsed": 5,
     "status": "ok",
     "timestamp": 1756881428843,
     "user": {
      "displayName": "Shivam Patil",
      "userId": "12236723277707423976"
     },
     "user_tz": -120
    },
    "id": "z5XlvZ_41q5L"
   },
   "outputs": [],
   "source": [
    "class DownSample(nn.Module):\n",
    "    def __init__(self, in_channels, out_channels):\n",
    "      super().__init__()\n",
    "      self.conv = DoubleConv(in_channels, out_channels)\n",
    "      self.pool = nn.MaxPool2d(kernel_size=2, stride=2)\n",
    "\n",
    "    def forward(self, x):\n",
    "      down = self.conv(x)\n",
    "      p = self.pool(down)\n",
    "\n",
    "      return down, p"
   ]
  },
  {
   "cell_type": "code",
   "execution_count": 6,
   "metadata": {
    "executionInfo": {
     "elapsed": 3,
     "status": "ok",
     "timestamp": 1756881428850,
     "user": {
      "displayName": "Shivam Patil",
      "userId": "12236723277707423976"
     },
     "user_tz": -120
    },
    "id": "jVF8-6XL3v8E"
   },
   "outputs": [],
   "source": [
    "class UpSample(nn.Module):\n",
    "    def __init__(self, in_channels, out_channels):\n",
    "        super().__init__()\n",
    "        self.up = nn.ConvTranspose2d(in_channels, in_channels//2, kernel_size=2, stride=2)\n",
    "        self.conv = DoubleConv(in_channels, out_channels)\n",
    "\n",
    "    def forward(self, x1, x2):\n",
    "       x1 = self.up(x1)\n",
    "       x = torch.cat([x1, x2], 1)\n",
    "       return self.conv(x)"
   ]
  },
  {
   "cell_type": "code",
   "execution_count": 7,
   "metadata": {
    "executionInfo": {
     "elapsed": 16,
     "status": "ok",
     "timestamp": 1756881428873,
     "user": {
      "displayName": "Shivam Patil",
      "userId": "12236723277707423976"
     },
     "user_tz": -120
    },
    "id": "B9BxwTyg3clv"
   },
   "outputs": [],
   "source": [
    "class UNet(nn.Module):\n",
    "    def __init__(self, in_channels, num_classes):\n",
    "        super().__init__()\n",
    "        self.down_convolution_1 = DownSample(in_channels, 64)\n",
    "        self.down_convolution_2 = DownSample(64, 128)\n",
    "        self.down_convolution_3 = DownSample(128, 256)\n",
    "        self.down_convolution_4 = DownSample(256, 512)\n",
    "\n",
    "        self.bottle_neck = DoubleConv(512, 1024)\n",
    "\n",
    "        self.up_convolution_1 = UpSample(1024, 512)\n",
    "        self.up_convolution_2 = UpSample(512, 256)\n",
    "        self.up_convolution_3 = UpSample(256, 128)\n",
    "        self.up_convolution_4 = UpSample(128, 64)\n",
    "\n",
    "        self.out = nn.Conv2d(in_channels=64, out_channels=num_classes, kernel_size=1)\n",
    "\n",
    "    def forward(self, x):\n",
    "       down_1, p1 = self.down_convolution_1(x)\n",
    "       down_2, p2 = self.down_convolution_2(p1)\n",
    "       down_3, p3 = self.down_convolution_3(p2)\n",
    "       down_4, p4 = self.down_convolution_4(p3)\n",
    "\n",
    "       b = self.bottle_neck(p4)\n",
    "\n",
    "       up_1 = self.up_convolution_1(b, down_4)\n",
    "       up_2 = self.up_convolution_2(up_1, down_3)\n",
    "       up_3 = self.up_convolution_3(up_2, down_2)\n",
    "       up_4 = self.up_convolution_4(up_3, down_1)\n",
    "\n",
    "       out = self.out(up_4)\n",
    "       return out"
   ]
  },
  {
   "cell_type": "code",
   "execution_count": 8,
   "metadata": {
    "executionInfo": {
     "elapsed": 15,
     "status": "ok",
     "timestamp": 1756881428875,
     "user": {
      "displayName": "Shivam Patil",
      "userId": "12236723277707423976"
     },
     "user_tz": -120
    },
    "id": "6mTs8zAL6kVs"
   },
   "outputs": [],
   "source": [
    "class DiceLoss(nn.Module):\n",
    "  def __init__(self, smooth=1e-6):\n",
    "    super(DiceLoss, self).__init__()\n",
    "    self.smooth = smooth\n",
    "\n",
    "  def forward(self, inputs, targets):\n",
    "    inputs = inputs.view(-1)\n",
    "    targets = targets.view(-1)\n",
    "\n",
    "    intersection = (inputs * targets).sum()\n",
    "    dice_score = (2. * intersection + self.smooth) / (inputs.sum() + targets.sum() + self.smooth)\n",
    "\n",
    "    return 1 - dice_score"
   ]
  },
  {
   "cell_type": "code",
   "execution_count": 9,
   "metadata": {
    "executionInfo": {
     "elapsed": 13,
     "status": "ok",
     "timestamp": 1756881428877,
     "user": {
      "displayName": "Shivam Patil",
      "userId": "12236723277707423976"
     },
     "user_tz": -120
    },
    "id": "LNpys99E7Psg"
   },
   "outputs": [],
   "source": [
    "class BCEWithDiceLoss(nn.Module):\n",
    "  def __init__(self, smooth=1e-6):\n",
    "    super(BCEWithDiceLoss, self).__init__()\n",
    "    self.bce = nn.BCEWithLogitsLoss()\n",
    "    self.dice = DiceLoss()\n",
    "\n",
    "  def forward(self, inputs,targets):\n",
    "    bce_loss = self.bce(inputs,targets)\n",
    "    dice_loss = self.dice(inputs,targets)\n",
    "    return 0.5*bce_loss + dice_loss"
   ]
  },
  {
   "cell_type": "code",
   "execution_count": 10,
   "metadata": {
    "executionInfo": {
     "elapsed": 21,
     "status": "ok",
     "timestamp": 1756881428891,
     "user": {
      "displayName": "Shivam Patil",
      "userId": "12236723277707423976"
     },
     "user_tz": -120
    },
    "id": "gVAzzz8F7-qp"
   },
   "outputs": [],
   "source": [
    "# Training loop\n",
    "\n",
    "def train(model, dataloader, epochs=2, lr=0.001, save_path=\"unet_model\", load_path=None):\n",
    "  device = torch.device(\"cuda\" if torch.cuda.is_available() else \"cpu\")\n",
    "\n",
    "  if load_path and os.path.exists(load_path):\n",
    "    print(f\"Loading model weights from {load_path}\")\n",
    "    model.load_state_dict(torch.load(load_path, map_loacation=device))\n",
    "  else:\n",
    "    print(f\"No checkpoint found, training from scratch.\")\n",
    "\n",
    "  print(device)\n",
    "  model.to(device)\n",
    "\n",
    "  criterion = BCEWithDiceLoss()\n",
    "  # criterion = nn.BCEWithLogitsLoss()\n",
    "\n",
    "  optimizer = SGD(model.parameters(), lr=lr)\n",
    "\n",
    "  for epoch in range(epochs):\n",
    "    model.train()\n",
    "    epoch_loss = 0\n",
    "\n",
    "    for images, masks in dataloader:\n",
    "      images, masks = images.to(device), masks.to(device)\n",
    "      optimizer.zero_grad()\n",
    "\n",
    "      output = model(images)\n",
    "\n",
    "      loss = criterion(output, masks)\n",
    "      loss.backward()\n",
    "      optimizer.step()\n",
    "\n",
    "      epoch_loss += loss.item()\n",
    "\n",
    "    avg_loss = epoch_loss / len(dataloader)\n",
    "    print(f\"Epoch [{epoch+1}/{epochs}], Loss : {avg_loss:.4f}, LR : {lr}\")\n",
    "\n",
    "    if epoch % 10 == 0 and epoch>0:\n",
    "      torch.save(model.state_dict(), f\"{save_path}.pth\")\n",
    "\n",
    "  torch.save(model.state_dict(), f\"{save_path}_final.pth\")\n",
    "  print(f\"Model Saved to {save_path}\")\n"
   ]
  },
  {
   "cell_type": "code",
   "execution_count": 11,
   "metadata": {
    "executionInfo": {
     "elapsed": 16,
     "status": "ok",
     "timestamp": 1756881428896,
     "user": {
      "displayName": "Shivam Patil",
      "userId": "12236723277707423976"
     },
     "user_tz": -120
    },
    "id": "2hGw7N-_-yjn"
   },
   "outputs": [],
   "source": [
    "dataloader = get_dataloader(\"D:\\\\Projects\\\\Segmentation\\\\007_Implementing_custom_Unet_training\\\\Human-Segmentation-Dataset\\\\Training_Images\", \"D:\\\\Projects\\\\Segmentation\\\\007_Implementing_custom_Unet_training\\\\Human-Segmentation-Dataset\\\\Ground_Truth\", batch_size=8, shuffle=True)"
   ]
  },
  {
   "cell_type": "code",
   "execution_count": null,
   "metadata": {
    "executionInfo": {
     "elapsed": 394,
     "status": "ok",
     "timestamp": 1756881429295,
     "user": {
      "displayName": "Shivam Patil",
      "userId": "12236723277707423976"
     },
     "user_tz": -120
    },
    "id": "9234SgAb-94b"
   },
   "outputs": [
    {
     "ename": "",
     "evalue": "",
     "output_type": "error",
     "traceback": [
      "\u001b[1;31mThe Kernel crashed while executing code in the current cell or a previous cell. \n",
      "\u001b[1;31mPlease review the code in the cell(s) to identify a possible cause of the failure. \n",
      "\u001b[1;31mClick <a href='https://aka.ms/vscodeJupyterKernelCrash'>here</a> for more info. \n",
      "\u001b[1;31mView Jupyter <a href='command:jupyter.viewOutput'>log</a> for further details."
     ]
    }
   ],
   "source": [
    "model = UNet(in_channels=3, num_classes=1)"
   ]
  },
  {
   "cell_type": "code",
   "execution_count": null,
   "metadata": {
    "colab": {
     "base_uri": "https://localhost:8080/"
    },
    "executionInfo": {
     "elapsed": 5144706,
     "status": "ok",
     "timestamp": 1756886573993,
     "user": {
      "displayName": "Shivam Patil",
      "userId": "12236723277707423976"
     },
     "user_tz": -120
    },
    "id": "u2Hym5DOElx7",
    "outputId": "438a26f8-8052-4891-a7ec-7a4c9155b331"
   },
   "outputs": [
    {
     "name": "stdout",
     "output_type": "stream",
     "text": [
      "No checkpoint found, training from scratch.\n",
      "cpu\n",
      "Epoch [1/80], Loss : 1.2724, LR : 0.001\n"
     ]
    }
   ],
   "source": [
    "train(model, dataloader, epochs=80, lr=0.001)"
   ]
  },
  {
   "cell_type": "markdown",
   "metadata": {
    "id": "hd7kDi3wFsGh"
   },
   "source": [
    "## Inference on trained model"
   ]
  },
  {
   "cell_type": "code",
   "execution_count": null,
   "metadata": {
    "executionInfo": {
     "elapsed": 84,
     "status": "ok",
     "timestamp": 1756886597965,
     "user": {
      "displayName": "Shivam Patil",
      "userId": "12236723277707423976"
     },
     "user_tz": -120
    },
    "id": "maPa5rjQFVZ9"
   },
   "outputs": [],
   "source": [
    "import numpy as np\n",
    "\n",
    "# Load model and predict with stats\n",
    "def predict(model_path, input_image_path):\n",
    "    device = torch.device(\"cuda\" if torch.cuda.is_available() else \"cpu\")\n",
    "    print(f\"Using device: {device}\")\n",
    "\n",
    "    # Load model\n",
    "    model = UNet(in_channels=3, num_classes=1)\n",
    "    model.load_state_dict(torch.load(model_path, map_location=device))\n",
    "    model.to(device)\n",
    "    model.eval()\n",
    "\n",
    "    # Track start time\n",
    "    total_start_time = time.time()\n",
    "\n",
    "    # Image preprocessing\n",
    "    preprocess_start_time = time.time()\n",
    "    image = Image.open(input_image_path).convert(\"RGB\")\n",
    "    transform = transforms.Compose([\n",
    "        transforms.Resize((512, 512)),\n",
    "        transforms.ToTensor(),\n",
    "    ])\n",
    "    image_tensor = transform(image).unsqueeze(0).to(device)\n",
    "    preprocess_end_time = time.time()\n",
    "\n",
    "    # Model inference\n",
    "    inference_start_time = time.time()\n",
    "    with torch.no_grad():\n",
    "        output = model(image_tensor)\n",
    "        output = torch.sigmoid(output)\n",
    "    inference_end_time = time.time()\n",
    "\n",
    "    # Postprocessing\n",
    "    postprocess_start_time = time.time()\n",
    "    mask = output.squeeze(0).squeeze(0).cpu().numpy()\n",
    "    mask = (mask > 0.5).astype(np.uint8) * 255\n",
    "    mask_image = Image.fromarray(mask)\n",
    "\n",
    "    combined = Image.new(\"RGB\", (512 * 2, 512))\n",
    "    combined.paste(image.resize((512, 512)), (0, 0))\n",
    "    combined.paste(mask_image.convert(\"RGB\"), (512, 0))\n",
    "    combined.save(\"output.jpg\")\n",
    "    postprocess_end_time = time.time()\n",
    "\n",
    "    # Calculate timing stats\n",
    "    total_end_time = time.time()\n",
    "\n",
    "    preprocess_time = preprocess_end_time - preprocess_start_time\n",
    "    inference_time = inference_end_time - inference_start_time\n",
    "    postprocess_time = postprocess_end_time - postprocess_start_time\n",
    "    total_time = total_end_time - total_start_time\n",
    "\n",
    "    # Print stats\n",
    "    print(\"\\nPrediction completed! Stats:\")\n",
    "    print(f\"  Image Preprocessing Time: {preprocess_time:.4f} seconds\")\n",
    "    print(f\"  Model Inference Time: {inference_time:.4f} seconds\")\n",
    "    print(f\"  Postprocessing Time: {postprocess_time:.4f} seconds\")\n",
    "    print(f\"  Total Prediction Time: {total_time:.4f} seconds\")\n",
    "    print(\"Prediction saved as output.jpg\")\n"
   ]
  },
  {
   "cell_type": "code",
   "execution_count": null,
   "metadata": {
    "colab": {
     "base_uri": "https://localhost:8080/"
    },
    "executionInfo": {
     "elapsed": 564,
     "status": "ok",
     "timestamp": 1756887303656,
     "user": {
      "displayName": "Shivam Patil",
      "userId": "12236723277707423976"
     },
     "user_tz": -120
    },
    "id": "nGnH0wvZGiP4",
    "outputId": "9eb1c3fa-372a-49fc-dd6b-a303d23df8a7"
   },
   "outputs": [
    {
     "name": "stderr",
     "output_type": "stream",
     "text": [
      "<>:1: SyntaxWarning: invalid escape sequence '\\P'\n",
      "<>:1: SyntaxWarning: invalid escape sequence '\\P'\n",
      "C:\\Users\\shiva\\AppData\\Local\\Temp\\ipykernel_31728\\2639892166.py:1: SyntaxWarning: invalid escape sequence '\\P'\n",
      "  predict(model_path=\"/content/unet_model_final.pth\", input_image_path=\"D:\\Projects\\Segmentation\\007_Implementing_custom_Unet_training\\Human-Segmentation-Dataset\\Training_Images\\7.jpg\")\n",
      "C:\\Users\\shiva\\AppData\\Local\\Temp\\ipykernel_31728\\2639892166.py:1: SyntaxWarning: invalid escape sequence '\\P'\n",
      "  predict(model_path=\"/content/unet_model_final.pth\", input_image_path=\"D:\\Projects\\Segmentation\\007_Implementing_custom_Unet_training\\Human-Segmentation-Dataset\\Training_Images\\7.jpg\")\n"
     ]
    },
    {
     "ename": "NameError",
     "evalue": "name 'predict' is not defined",
     "output_type": "error",
     "traceback": [
      "\u001b[31m---------------------------------------------------------------------------\u001b[39m",
      "\u001b[31mNameError\u001b[39m                                 Traceback (most recent call last)",
      "\u001b[36mCell\u001b[39m\u001b[36m \u001b[39m\u001b[32mIn[1]\u001b[39m\u001b[32m, line 1\u001b[39m\n\u001b[32m----> \u001b[39m\u001b[32m1\u001b[39m \u001b[43mpredict\u001b[49m(model_path=\u001b[33m\"\u001b[39m\u001b[33m/content/unet_model_final.pth\u001b[39m\u001b[33m\"\u001b[39m, input_image_path=\u001b[33m\"\u001b[39m\u001b[33mD:\u001b[39m\u001b[33m\\\u001b[39m\u001b[33mProjects\u001b[39m\u001b[33m\\\u001b[39m\u001b[33mSegmentation\u001b[39m\u001b[38;5;130;01m\\007\u001b[39;00m\u001b[33m_Implementing_custom_Unet_training\u001b[39m\u001b[33m\\\u001b[39m\u001b[33mHuman-Segmentation-Dataset\u001b[39m\u001b[33m\\\u001b[39m\u001b[33mTraining_Images\u001b[39m\u001b[38;5;130;01m\\7\u001b[39;00m\u001b[33m.jpg\u001b[39m\u001b[33m\"\u001b[39m)\n",
      "\u001b[31mNameError\u001b[39m: name 'predict' is not defined"
     ]
    }
   ],
   "source": [
    "predict(model_path=\"/content/unet_model_final.pth\", input_image_path=\"D:\\Projects\\Segmentation\\007_Implementing_custom_Unet_training\\Human-Segmentation-Dataset\\Training_Images\\7.jpg\")"
   ]
  }
 ],
 "metadata": {
  "accelerator": "GPU",
  "colab": {
   "gpuType": "T4",
   "provenance": []
  },
  "kernelspec": {
   "display_name": "Python 3",
   "name": "python3"
  },
  "language_info": {
   "codemirror_mode": {
    "name": "ipython",
    "version": 3
   },
   "file_extension": ".py",
   "mimetype": "text/x-python",
   "name": "python",
   "nbconvert_exporter": "python",
   "pygments_lexer": "ipython3",
   "version": "3.13.5"
  }
 },
 "nbformat": 4,
 "nbformat_minor": 0
}
